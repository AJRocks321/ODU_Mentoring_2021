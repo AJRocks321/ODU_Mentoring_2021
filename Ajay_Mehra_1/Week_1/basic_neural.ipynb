{
 "cells": [
  {
   "cell_type": "markdown",
   "id": "67a87dfd-36c7-4ecd-bca8-0eeaab5749e0",
   "metadata": {
    "tags": []
   },
   "source": [
    "## 1: Neuron - Building block for Neural network"
   ]
  },
  {
   "cell_type": "code",
   "execution_count": 20,
   "id": "22864210-5ee9-44e8-94ec-0fbc454bfa88",
   "metadata": {
    "tags": []
   },
   "outputs": [],
   "source": [
    "import numpy as np\n",
    "\n",
    "def sigmiod(x):\n",
    "    return 1/(1+np.exp(-x))\n",
    "\n",
    "class neuronn:\n",
    "    def __init__(self,w1,w2,b):\n",
    "        self.w1=w1\n",
    "        self.w2=w2\n",
    "        self.b=b\n",
    "    def output(self,x1,x2):\n",
    "        o1=sigmiod(self.w1*x1 + self.w2*x2 + self.b)\n",
    "        return o1"
   ]
  },
  {
   "cell_type": "markdown",
   "id": "4ca0b2b2-b49c-403d-95bd-9205f0b2f9d8",
   "metadata": {
    "tags": []
   },
   "source": [
    "<img src=img/perceptron.svg>"
   ]
  },
  {
   "cell_type": "code",
   "execution_count": 21,
   "id": "f0154551-4f88-41f4-bef4-1c2d3596c0c8",
   "metadata": {
    "tags": []
   },
   "outputs": [
    {
     "data": {
      "text/plain": [
       "0.9241418199787566"
      ]
     },
     "execution_count": 21,
     "metadata": {},
     "output_type": "execute_result"
    }
   ],
   "source": [
    "N=neuronn(w1=0.5,w2=0.5,b=1)\n",
    "N.output(1,2)"
   ]
  },
  {
   "cell_type": "markdown",
   "id": "5ad0b923-0a5c-4add-b77f-2fc4804d883a",
   "metadata": {},
   "source": [
    "## 2: Combining Neurons"
   ]
  },
  {
   "cell_type": "code",
   "execution_count": 4,
   "id": "9a9a2805-4f78-4500-b519-862911ca3222",
   "metadata": {
    "tags": []
   },
   "outputs": [],
   "source": [
    "import numpy as np\n",
    "\n",
    "def sigmoid(x):\n",
    "    return 1/(1+np.exp(-x))\n",
    "\n",
    "class neurons:\n",
    "    def __init__(self,w1,w2,w3,w4,w5,w6,b1,b2,b3):\n",
    "        self.w1=w1\n",
    "        self.w2=w2\n",
    "        self.w3=w3\n",
    "        self.w4=w4\n",
    "        self.w5=w5\n",
    "        self.w6=w6\n",
    "        self.b1=b1\n",
    "        self.b2=b2\n",
    "        self.b3=b3\n",
    "    def output(self,x1,x2):\n",
    "        h1=sigmoid(self.w1*x1 + self.w2*x2 + self.b1)\n",
    "        h2=sigmoid(self.w3*x2 + self.w4*x1 + self.b2)\n",
    "        o1=sigmoid(self.w5*h1 + self.w6*h2 + self.b3)\n",
    "        return o1"
   ]
  },
  {
   "cell_type": "markdown",
   "id": "c44fa31d-6d0e-485e-a42d-26495daaf9a3",
   "metadata": {
    "tags": []
   },
   "source": [
    "<img src=Img/network.svg>"
   ]
  },
  {
   "cell_type": "code",
   "execution_count": 5,
   "id": "7204ca51-6182-4178-be1d-46e39a3db541",
   "metadata": {
    "tags": []
   },
   "outputs": [
    {
     "data": {
      "text/plain": [
       "0.8564158737658863"
      ]
     },
     "execution_count": 5,
     "metadata": {},
     "output_type": "execute_result"
    }
   ],
   "source": [
    "Ns=neurons(0.5,0.5,0.5,0.5,0.5,0.5,1,1,1)\n",
    "Ns.output(0.2,0.4)"
   ]
  },
  {
   "cell_type": "markdown",
   "id": "21e3796d-2a8a-472c-9e18-377d375e540b",
   "metadata": {},
   "source": [
    "## 3: Training a Neural Network for our data"
   ]
  },
  {
   "cell_type": "code",
   "execution_count": 6,
   "id": "c78d5527-01e3-42a6-9745-302f182508b5",
   "metadata": {},
   "outputs": [],
   "source": [
    "import pandas as pd\n",
    "import numpy as np\n",
    "data=pd.DataFrame([[-2,-1,1],[25,6,0],[17,4,0],[-15,-6,1]],columns=['weight','height','gender'])"
   ]
  },
  {
   "cell_type": "code",
   "execution_count": 48,
   "id": "f54ce922-3f16-4fd9-8391-4c45e43c6cd7",
   "metadata": {
    "tags": []
   },
   "outputs": [],
   "source": [
    "#y_pred and y_real are numpy array\n",
    "#cost function represent mean squared error\n",
    "def cost(y_pred,y_real):\n",
    "    return ((y_pred-y_real)**2).mean()\n",
    "def sigmoid(x):\n",
    "    return 1/(1+np.exp(-x))\n",
    "def d_sigmoid(x):\n",
    "    return sigmoid(x)*(1-sigmoid(x))"
   ]
  },
  {
   "cell_type": "code",
   "execution_count": 47,
   "id": "976620c4-e1ca-4542-8708-21e5bd926068",
   "metadata": {},
   "outputs": [],
   "source": [
    "class Neuron:\n",
    "    def __init__(self):\n",
    "        self.w1=np.random.normal()\n",
    "        self.w2=np.random.normal()\n",
    "        self.w3=np.random.normal()\n",
    "        self.w4=np.random.normal()\n",
    "        self.w5=np.random.normal()\n",
    "        self.w6=np.random.normal()\n",
    "        self.b1=np.random.normal()\n",
    "        self.b2=np.random.normal()\n",
    "        self.b3=np.random.normal()\n",
    "        \n",
    "    def neuron_update(self,X_all,y_real_all):\n",
    "        a=0.1\n",
    "        N=1000\n",
    "        for n in range(N):\n",
    "            for x,y_real in zip(X_all,y_real_all):\n",
    "                Sum_h1=self.w1*x[0]+self.w2*x[1]+self.b1\n",
    "                h1=sigmoid(S_h1)\n",
    "                Sum_h2=self.w3*x[0]+self.w4*x[1]+self.b2\n",
    "                h2=sigmoid(S_h2)\n",
    "                Sum_o1=self.w5*x[0]+self.w6*x[1]+self.b3\n",
    "                o1=sigmoid(S_o1)\n",
    "                \n",
    "                #3rd Neuron o1\n",
    "                dCost_dw5 = d_sigmoid(Sum_o1) * h1\n",
    "                dCost_dw6 = d_sigmoid(Sum_o1) * h2\n",
    "                dCost_db3 = d_sigmoid(Sum_o1)\n",
    "                \n",
    "                #1st Neuron h1\n",
    "                dCost_dw1 = dCost_dw5 * d_sigmoid(Sum_h1) * x[0]\n",
    "                dCost_dw2 = dCost_dw5 * d_sigmoid(Sum_h1) * x[1]\n",
    "                dCost_db1 = dCost_dw5 * d_sigmoid(Sum_h1)\n",
    "                \n",
    "                #2nd Neuron h2\n",
    "                dCost_dw3 = dCost_dw6 * d_sigmoid(Sum_h2) * x[0]\n",
    "                dCost_dw4 = dCost_dw6 * d_sigmoid(Sum_h2) * x[1]\n",
    "                dCost_db2 = dCost_dw6 * d_sigmoid(Sum_h2)\n",
    "                \n",
    "                self.w1 -= a * dCost"
   ]
  },
  {
   "cell_type": "code",
   "execution_count": 45,
   "id": "9e5b0451-8a68-4a2c-a835-366dece8a520",
   "metadata": {},
   "outputs": [
    {
     "data": {
      "text/plain": [
       "1.6881295887930987"
      ]
     },
     "execution_count": 45,
     "metadata": {},
     "output_type": "execute_result"
    }
   ],
   "source": [
    "np.random.normal()"
   ]
  },
  {
   "cell_type": "markdown",
   "id": "097ca501-6adf-42e7-9a5d-cfe58c5b5f62",
   "metadata": {},
   "source": [
    "### Preparing Data\n",
    "###### Data source : https://www.kaggle.com/sulianova/eda-cardiovascular-data/data\n",
    "###### Extracting only height, weight and gender feild."
   ]
  },
  {
   "cell_type": "code",
   "execution_count": 18,
   "id": "10071c6a-13f4-45a0-a6f2-27a63160174a",
   "metadata": {},
   "outputs": [],
   "source": [
    "data=pd.read_csv('Data/Data_from_kaggle.csv',sep=\";\")\n",
    "g=data['gender']-1\n",
    "h=data['height']\n",
    "w=data['weight']\n",
    "\n",
    "\n",
    "Dat=(pd.DataFrame([w,h,g]).T).astype({'gender':'int','weight':'int','height':'int'})\n",
    "Dat.to_csv(\"Data/Data.csv\",index=False)"
   ]
  }
 ],
 "metadata": {
  "kernelspec": {
   "display_name": "Python 3",
   "language": "python",
   "name": "python3"
  },
  "language_info": {
   "codemirror_mode": {
    "name": "ipython",
    "version": 3
   },
   "file_extension": ".py",
   "mimetype": "text/x-python",
   "name": "python",
   "nbconvert_exporter": "python",
   "pygments_lexer": "ipython3",
   "version": "3.9.4"
  }
 },
 "nbformat": 4,
 "nbformat_minor": 5
}
