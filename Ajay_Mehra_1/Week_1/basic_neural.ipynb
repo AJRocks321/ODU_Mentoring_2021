{
 "cells": [
  {
   "cell_type": "markdown",
   "id": "27dc1707",
   "metadata": {
    "tags": []
   },
   "source": [
    "## 1: Neuron - Building block for Neural network"
   ]
  },
  {
   "cell_type": "code",
   "execution_count": 2,
   "id": "c0aeb7de",
   "metadata": {
    "tags": []
   },
   "outputs": [],
   "source": [
    "import numpy as np\r\n",
    "\r\n",
    "def sigmiod(x):\r\n",
    "    return 1/(1+np.exp(-x))\r\n",
    "\r\n",
    "class neuronn:\r\n",
    "    def __init__(self,w1,w2,b):\r\n",
    "        self.w1=w1\r\n",
    "        self.w2=w2\r\n",
    "        self.b=b\r\n",
    "    def output(self,x1,x2):\r\n",
    "        o1=sigmiod(self.w1*x1 + self.w2*x2 + self.b)\r\n",
    "        return o1"
   ]
  },
  {
   "cell_type": "markdown",
   "id": "36912a13",
   "metadata": {
    "tags": []
   },
   "source": [
    "<img src=Img/perceptron.svg>"
   ]
  },
  {
   "cell_type": "code",
   "execution_count": 3,
   "id": "f9dced25",
   "metadata": {
    "tags": []
   },
   "outputs": [
    {
     "data": {
      "text/plain": [
       "0.9241418199787566"
      ]
     },
     "execution_count": 3,
     "metadata": {},
     "output_type": "execute_result"
    }
   ],
   "source": [
    "N=neuronn(w1=0.5,w2=0.5,b=1)\r\n",
    "N.output(1,2)"
   ]
  },
  {
   "cell_type": "markdown",
   "id": "61fcc797",
   "metadata": {},
   "source": [
    "## 2: Combining Neurons"
   ]
  },
  {
   "cell_type": "code",
   "execution_count": 4,
   "id": "3c65ebda",
   "metadata": {
    "tags": []
   },
   "outputs": [],
   "source": [
    "import numpy as np\r\n",
    "\r\n",
    "def sigmoid(x):\r\n",
    "    return 1/(1+np.exp(-x))\r\n",
    "\r\n",
    "class neurons:\r\n",
    "    def __init__(self,w1,w2,w3,w4,w5,w6,b1,b2,b3):\r\n",
    "        self.w1=w1\r\n",
    "        self.w2=w2\r\n",
    "        self.w3=w3\r\n",
    "        self.w4=w4\r\n",
    "        self.w5=w5\r\n",
    "        self.w6=w6\r\n",
    "        self.b1=b1\r\n",
    "        self.b2=b2\r\n",
    "        self.b3=b3\r\n",
    "    def output(self,x1,x2):\r\n",
    "        h1=sigmoid(self.w1*x1 + self.w2*x2 + self.b1)\r\n",
    "        h2=sigmoid(self.w3*x2 + self.w4*x1 + self.b2)\r\n",
    "        o1=sigmoid(self.w5*h1 + self.w6*h2 + self.b3)\r\n",
    "        return o1"
   ]
  },
  {
   "cell_type": "markdown",
   "id": "688c4af4",
   "metadata": {
    "tags": []
   },
   "source": [
    "<img src=Img/network.svg>"
   ]
  },
  {
   "cell_type": "code",
   "execution_count": 14,
   "id": "9c99b8e9",
   "metadata": {
    "tags": []
   },
   "outputs": [
    {
     "data": {
      "text/plain": [
       "0.8564158737658863"
      ]
     },
     "execution_count": 14,
     "metadata": {},
     "output_type": "execute_result"
    }
   ],
   "source": [
    "Ns=neurons(0.5,0.5,0.5,0.5,0.5,0.5,1,1,1)\r\n",
    "Ns.output(0.2,0.4)"
   ]
  },
  {
   "cell_type": "markdown",
   "id": "192cd274",
   "metadata": {},
   "source": [
    "## 3: Training a Neural Network for our data"
   ]
  },
  {
   "cell_type": "code",
   "execution_count": 166,
   "id": "ac2a6a4b-ecf2-4f4d-b17f-ce029dfb0f31",
   "metadata": {},
   "outputs": [],
   "source": [
    "import pandas as pd\n",
    "import numpy as np\n",
    "import matplotlib.pyplot as plt"
   ]
  },
  {
   "cell_type": "code",
   "execution_count": 98,
   "id": "c7342bb8-f4ce-43c3-8c3b-9a9060b0e479",
   "metadata": {},
   "outputs": [],
   "source": [
    "#y_pred and y_real are numpy array\n",
    "#cost function represent mean squared error\n",
    "def Cost(y_pred,y_real):    \n",
    "    return ((y_pred-y_real)**2).mean()\n",
    "def sigmoid(x):\n",
    "    return 1/(1+np.exp(-x))\n",
    "def d_sigmoid(x):\n",
    "    return sigmoid(x)*(1-sigmoid(x))"
   ]
  },
  {
   "cell_type": "code",
   "execution_count": 177,
   "id": "84b14f95",
   "metadata": {},
   "outputs": [],
   "source": [
    "class gender_predictor:\n",
    "    def __init__(self):\n",
    "        #chooses a random real number, more likely to be near 0.\n",
    "        self.w1=np.random.normal()\n",
    "        self.w2=np.random.normal()\n",
    "        self.w3=np.random.normal()\n",
    "        self.w4=np.random.normal()\n",
    "        self.w5=np.random.normal()\n",
    "        self.w6=np.random.normal()\n",
    "        self.b1=np.random.normal()\n",
    "        self.b2=np.random.normal()\n",
    "        self.b3=np.random.normal()\n",
    "        \n",
    "    def feed_forward(self,x):\n",
    "        h1=sigmoid(self.w1*x[0]+self.w2*x[1]+self.b1)\n",
    "        h2=sigmoid(self.w3*x[0]+self.w4*x[1]+self.b2)\n",
    "        o1=sigmoid(self.w5*h1+self.w6*h2+self.b3)\n",
    "        return o1\n",
    "        \n",
    "    def neuron_update(self,X_all,y_real_all):\n",
    "        Loss=[]\n",
    "        a=0.01\n",
    "        N=10000\n",
    "        for n in range(N):\n",
    "            for x,y_real in zip(X_all,y_real_all):\n",
    "                Sum_h1=self.w1*x[0]+self.w2*x[1]+self.b1\n",
    "                h1=sigmoid(Sum_h1)\n",
    "                Sum_h2=self.w3*x[0]+self.w4*x[1]+self.b2\n",
    "                h2=sigmoid(Sum_h2)\n",
    "                Sum_o1=self.w5*h1+self.w6*h2+self.b3\n",
    "                y_pred=sigmoid(Sum_o1)\n",
    "                \n",
    "                dCost_dypred = 2 * (y_pred - y_real)\n",
    "                \n",
    "                #3rd Neuron o1\n",
    "                dypred_dw5 = d_sigmoid(Sum_o1) * h1\n",
    "                dypred_dw6 = d_sigmoid(Sum_o1) * h2\n",
    "                dypred_db3 = d_sigmoid(Sum_o1)\n",
    "                \n",
    "                #h1 and h2\n",
    "                dypred_dh1 = d_sigmoid(Sum_o1) * self.w5\n",
    "                dypred_dh2 = d_sigmoid(Sum_o1) * self.w6\n",
    "                \n",
    "                #1st Neuron h1\n",
    "                dh1_dw1 = d_sigmoid(Sum_h1) * x[0]\n",
    "                dh1_dw2 = d_sigmoid(Sum_h1) * x[1]\n",
    "                dh1_db1 = d_sigmoid(Sum_h1)\n",
    "                \n",
    "                #2nd Neuron h2\n",
    "                dh2_dw3 = d_sigmoid(Sum_h2) * x[0]\n",
    "                dh2_dw4 = d_sigmoid(Sum_h2) * x[1]\n",
    "                dh2_db2 = d_sigmoid(Sum_h2)\n",
    "                \n",
    "                #updating Values of w1,w2,w3,w4,w5,w6,b1,b2,b3 simultaneously\n",
    "                self.w1 -= a* dCost_dypred * dypred_dh1 * dh1_dw1\n",
    "                self.w2 -= a* dCost_dypred * dypred_dh1 * dh1_dw2\n",
    "                self.w3 -= a* dCost_dypred * dypred_dh2 * dh2_dw3\n",
    "                self.w4 -= a* dCost_dypred * dypred_dh2 * dh2_dw4\n",
    "                self.w5 -= a* dCost_dypred * dypred_dw5\n",
    "                self.w6 -= a* dCost_dypred * dypred_dw6\n",
    "                \n",
    "                self.b1 -= a* dCost_dypred * dypred_dh1 * dh1_db1\n",
    "                self.b2 -= a* dCost_dypred * dypred_dh2 * dh2_db2\n",
    "                self.b3 -= a* dCost_dypred * dypred_db3\n",
    "                \n",
    "            if n % (N/100) == 0:\n",
    "                Loss.append(Cost(self.feed_forward(X_all.T),y_real_all))\n",
    "        return Loss"
   ]
  },
  {
   "cell_type": "markdown",
   "id": "a4340d99-01b6-4ac1-ba48-cfeb0fc7e8b9",
   "metadata": {},
   "source": [
    "### Data"
   ]
  },
  {
   "cell_type": "code",
   "execution_count": 189,
   "id": "f7e9c91a",
   "metadata": {},
   "outputs": [],
   "source": [
    "#heights and weights are in cms and Kgs respectively\n",
    "#[0,0] represent [164cms , 74 Kgs]\n",
    "#gender 1 represent men\n",
    "H_W=np.array([[  4., -12.],\n",
    "           [ -8.,  11.],\n",
    "           [  1., -10.],\n",
    "           [  5.,   8.],\n",
    "           [ -8., -18.],\n",
    "           [-13.,  -7.],\n",
    "           [ -7.,  19.],\n",
    "           [ 14.,  21.],\n",
    "           [ -6.,  -3.],\n",
    "           [  0.,  -6.],\n",
    "           [  5.,   6.],\n",
    "           [  9., -14.],\n",
    "           [  1., -14.],\n",
    "           [ -6.,   4.],\n",
    "           [ 17.,  21.]])\n",
    "G=np.array([1,0,0,1,0,0,0,1,0,0,0,1,1,0,1])\n",
    "X_all = H_W\n",
    "y_real_all = G\n",
    "GN=gender_predictor()\n",
    "Loss=GN.neuron_update(X_all,y_real_all)"
   ]
  },
  {
   "cell_type": "markdown",
   "id": "3fdb22af-f768-436b-bf54-f50061b6ce58",
   "metadata": {},
   "source": [
    "### Plotting Loss"
   ]
  },
  {
   "cell_type": "code",
   "execution_count": 191,
   "id": "25fc7cf9-8f7a-4ea0-9c4a-e1dbadbc9e6c",
   "metadata": {},
   "outputs": [
    {
     "data": {
      "text/plain": [
       "[<matplotlib.lines.Line2D at 0x21a0ceb53d0>]"
      ]
     },
     "execution_count": 191,
     "metadata": {},
     "output_type": "execute_result"
    },
    {
     "data": {
      "image/png": "[encoded data removed]",
      "text/plain": [
       "<Figure size 432x288 with 1 Axes>"
      ]
     },
     "metadata": {
      "needs_background": "light"
     },
     "output_type": "display_data"
    }
   ],
   "source": [
    "plt.plot(np.linspace(0,100,100),Loss)"
   ]
  },
  {
   "cell_type": "markdown",
   "id": "40929eda-5e59-4a32-ad59-d129737558a8",
   "metadata": {},
   "source": [
    "### Input"
   ]
  },
  {
   "cell_type": "code",
   "execution_count": 198,
   "id": "070e4972-b99d-4ca2-bed1-f8586013d2d1",
   "metadata": {},
   "outputs": [
    {
     "name": "stdin",
     "output_type": "stream",
     "text": [
      "Weight(in Kgs) 65\n",
      "Height(in cms) 167\n"
     ]
    },
    {
     "name": "stdout",
     "output_type": "stream",
     "text": [
      "You are a Male\n",
      "Probablity= 0.9708032939376948\n"
     ]
    }
   ],
   "source": [
    "(h0,w0)=int(data['height'].mean()),int(data['weight'].mean())\n",
    "w=float(input(\"Weight(in Kgs)\"))-w0\n",
    "h=float(input(\"Height(in cms)\"))-h0\n",
    "g=GN.feed_forward([h,w])\n",
    "if g>0.5:\n",
    "    print(\"You are a Male\")\n",
    "    print(\"Probablity=\",g)\n",
    "else:\n",
    "    print(\"You are a Female\")\n",
    "    print(\" Probablity=\",1-g)"
   ]
  },
  {
   "cell_type": "markdown",
   "id": "286ef581",
   "metadata": {},
   "source": [
    "### Data\n",
    "###### Data source : https://www.kaggle.com/sulianova/eda-cardiovascular-data/data\n",
    "###### Extracting only height, weight and gender feild."
   ]
  }
 ],
 "metadata": {
  "kernelspec": {
   "display_name": "Python 3",
   "language": "python",
   "name": "python3"
  },
  "language_info": {
   "codemirror_mode": {
    "name": "ipython",
    "version": 3
   },
   "file_extension": ".py",
   "mimetype": "text/x-python",
   "name": "python",
   "nbconvert_exporter": "python",
   "pygments_lexer": "ipython3",
   "version": "3.9.4"
  }
 },
 "nbformat": 4,
 "nbformat_minor": 5
}
